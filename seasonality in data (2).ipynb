{
 "cells": [
  {
   "cell_type": "markdown",
   "id": "462373af",
   "metadata": {},
   "source": [
    "### Is there any seasonality in number of customers using the cab service?"
   ]
  },
  {
   "cell_type": "code",
   "execution_count": 8,
   "id": "30d48751",
   "metadata": {},
   "outputs": [
    {
     "data": {
      "text/html": [
       "<div>\n",
       "<style scoped>\n",
       "    .dataframe tbody tr th:only-of-type {\n",
       "        vertical-align: middle;\n",
       "    }\n",
       "\n",
       "    .dataframe tbody tr th {\n",
       "        vertical-align: top;\n",
       "    }\n",
       "\n",
       "    .dataframe thead th {\n",
       "        text-align: right;\n",
       "    }\n",
       "</style>\n",
       "<table border=\"1\" class=\"dataframe\">\n",
       "  <thead>\n",
       "    <tr style=\"text-align: right;\">\n",
       "      <th></th>\n",
       "      <th>Transaction ID</th>\n",
       "      <th>Date of Travel</th>\n",
       "      <th>Company</th>\n",
       "      <th>City</th>\n",
       "      <th>KM Travelled</th>\n",
       "      <th>Price Charged</th>\n",
       "      <th>Cost of Trip</th>\n",
       "    </tr>\n",
       "  </thead>\n",
       "  <tbody>\n",
       "    <tr>\n",
       "      <th>5000</th>\n",
       "      <td>10006399</td>\n",
       "      <td>2016-02-01</td>\n",
       "      <td>Yellow Cab</td>\n",
       "      <td>LOS ANGELES CA</td>\n",
       "      <td>40.25</td>\n",
       "      <td>1026.10</td>\n",
       "      <td>502.3200</td>\n",
       "    </tr>\n",
       "    <tr>\n",
       "      <th>5001</th>\n",
       "      <td>10006400</td>\n",
       "      <td>2016-02-02</td>\n",
       "      <td>Yellow Cab</td>\n",
       "      <td>LOS ANGELES CA</td>\n",
       "      <td>13.13</td>\n",
       "      <td>336.58</td>\n",
       "      <td>184.3452</td>\n",
       "    </tr>\n",
       "    <tr>\n",
       "      <th>5002</th>\n",
       "      <td>10006401</td>\n",
       "      <td>2016-02-06</td>\n",
       "      <td>Yellow Cab</td>\n",
       "      <td>LOS ANGELES CA</td>\n",
       "      <td>17.12</td>\n",
       "      <td>359.41</td>\n",
       "      <td>223.9296</td>\n",
       "    </tr>\n",
       "    <tr>\n",
       "      <th>5003</th>\n",
       "      <td>10006402</td>\n",
       "      <td>2016-02-01</td>\n",
       "      <td>Yellow Cab</td>\n",
       "      <td>LOS ANGELES CA</td>\n",
       "      <td>7.07</td>\n",
       "      <td>181.67</td>\n",
       "      <td>95.8692</td>\n",
       "    </tr>\n",
       "    <tr>\n",
       "      <th>5004</th>\n",
       "      <td>10006403</td>\n",
       "      <td>2016-02-07</td>\n",
       "      <td>Yellow Cab</td>\n",
       "      <td>LOS ANGELES CA</td>\n",
       "      <td>21.06</td>\n",
       "      <td>456.09</td>\n",
       "      <td>265.3560</td>\n",
       "    </tr>\n",
       "    <tr>\n",
       "      <th>...</th>\n",
       "      <td>...</td>\n",
       "      <td>...</td>\n",
       "      <td>...</td>\n",
       "      <td>...</td>\n",
       "      <td>...</td>\n",
       "      <td>...</td>\n",
       "      <td>...</td>\n",
       "    </tr>\n",
       "    <tr>\n",
       "      <th>24995</th>\n",
       "      <td>10031716</td>\n",
       "      <td>2016-05-09</td>\n",
       "      <td>Pink Cab</td>\n",
       "      <td>ATLANTA GA</td>\n",
       "      <td>24.00</td>\n",
       "      <td>259.37</td>\n",
       "      <td>283.2000</td>\n",
       "    </tr>\n",
       "    <tr>\n",
       "      <th>24996</th>\n",
       "      <td>10031717</td>\n",
       "      <td>2016-05-10</td>\n",
       "      <td>Pink Cab</td>\n",
       "      <td>ATLANTA GA</td>\n",
       "      <td>9.72</td>\n",
       "      <td>104.94</td>\n",
       "      <td>97.2000</td>\n",
       "    </tr>\n",
       "    <tr>\n",
       "      <th>24997</th>\n",
       "      <td>10031718</td>\n",
       "      <td>2016-05-17</td>\n",
       "      <td>Pink Cab</td>\n",
       "      <td>ATLANTA GA</td>\n",
       "      <td>28.34</td>\n",
       "      <td>284.18</td>\n",
       "      <td>297.5700</td>\n",
       "    </tr>\n",
       "    <tr>\n",
       "      <th>24998</th>\n",
       "      <td>10031719</td>\n",
       "      <td>2016-05-15</td>\n",
       "      <td>Pink Cab</td>\n",
       "      <td>ATLANTA GA</td>\n",
       "      <td>4.28</td>\n",
       "      <td>40.49</td>\n",
       "      <td>51.3600</td>\n",
       "    </tr>\n",
       "    <tr>\n",
       "      <th>24999</th>\n",
       "      <td>10031720</td>\n",
       "      <td>2016-05-18</td>\n",
       "      <td>Pink Cab</td>\n",
       "      <td>ATLANTA GA</td>\n",
       "      <td>26.88</td>\n",
       "      <td>277.17</td>\n",
       "      <td>301.0560</td>\n",
       "    </tr>\n",
       "  </tbody>\n",
       "</table>\n",
       "<p>20000 rows × 7 columns</p>\n",
       "</div>"
      ],
      "text/plain": [
       "       Transaction ID Date of Travel     Company            City  \\\n",
       "5000         10006399     2016-02-01  Yellow Cab  LOS ANGELES CA   \n",
       "5001         10006400     2016-02-02  Yellow Cab  LOS ANGELES CA   \n",
       "5002         10006401     2016-02-06  Yellow Cab  LOS ANGELES CA   \n",
       "5003         10006402     2016-02-01  Yellow Cab  LOS ANGELES CA   \n",
       "5004         10006403     2016-02-07  Yellow Cab  LOS ANGELES CA   \n",
       "...               ...            ...         ...             ...   \n",
       "24995        10031716     2016-05-09    Pink Cab      ATLANTA GA   \n",
       "24996        10031717     2016-05-10    Pink Cab      ATLANTA GA   \n",
       "24997        10031718     2016-05-17    Pink Cab      ATLANTA GA   \n",
       "24998        10031719     2016-05-15    Pink Cab      ATLANTA GA   \n",
       "24999        10031720     2016-05-18    Pink Cab      ATLANTA GA   \n",
       "\n",
       "       KM Travelled  Price Charged  Cost of Trip  \n",
       "5000          40.25        1026.10      502.3200  \n",
       "5001          13.13         336.58      184.3452  \n",
       "5002          17.12         359.41      223.9296  \n",
       "5003           7.07         181.67       95.8692  \n",
       "5004          21.06         456.09      265.3560  \n",
       "...             ...            ...           ...  \n",
       "24995         24.00         259.37      283.2000  \n",
       "24996          9.72         104.94       97.2000  \n",
       "24997         28.34         284.18      297.5700  \n",
       "24998          4.28          40.49       51.3600  \n",
       "24999         26.88         277.17      301.0560  \n",
       "\n",
       "[20000 rows x 7 columns]"
      ]
     },
     "execution_count": 8,
     "metadata": {},
     "output_type": "execute_result"
    }
   ],
   "source": [
    "import numpy as np\n",
    "import pandas as pd\n",
    "import matplotlib.pyplot as plt\n",
    "from datetime import date, datetime\n",
    "\n",
    "\n",
    "df_cabs = pd.read_csv('Cab_Data.csv')\n",
    "# a function to convert date of travel column into dates\n",
    "def convert_excel_time(excel_time):\n",
    "    return pd.to_datetime('1900-01-01') + pd.to_timedelta(excel_time,'D')\n",
    "\n",
    "# call and work with the function\n",
    "df_cabs['Date of Travel']= convert_excel_time(df_cabs['Date of Travel'])\n",
    "df_cabs[5000:25000]\n"
   ]
  },
  {
   "cell_type": "markdown",
   "id": "157f2271",
   "metadata": {},
   "source": [
    "### 1/ DATAFRAMES BY YEAR"
   ]
  },
  {
   "cell_type": "code",
   "execution_count": 9,
   "id": "7f8a4814",
   "metadata": {},
   "outputs": [],
   "source": [
    "start_date = \"2016-1-1\"\n",
    "end_date = \"2016-12-31\"\n",
    "\n",
    "after_start_date = df_cabs[\"Date of Travel\"] >= start_date\n",
    "before_end_date = df_cabs[\"Date of Travel\"] <= end_date\n",
    "between_two_dates = after_start_date & before_end_date\n",
    "df_cabs_2016 = df_cabs.loc[between_two_dates]\n",
    "df_cabs_2016\n",
    "\n",
    "#calculate the number of transaction in 2016\n",
    "number_of_transactions_2016 = df_cabs_2016.size\n",
    "number_of_transactions_2016\n",
    "\n",
    "#by company\n",
    "\n",
    "df1 = df_cabs_2016.groupby('Company').count()\n",
    "number_of_pink_tranactions_in_2016= df1.iloc[0]['Transaction ID']\n",
    "number_of_yellow_tranactions_in_2016= df1.iloc[1]['Transaction ID']\n"
   ]
  },
  {
   "cell_type": "code",
   "execution_count": 10,
   "id": "cbb00a71",
   "metadata": {},
   "outputs": [],
   "source": [
    "start_date = \"2017-1-1\"\n",
    "end_date = \"2017-12-31\"\n",
    "\n",
    "after_start_date = df_cabs[\"Date of Travel\"] >= start_date\n",
    "before_end_date = df_cabs[\"Date of Travel\"] <= end_date\n",
    "between_two_dates = after_start_date & before_end_date\n",
    "df_cabs_2017 = df_cabs.loc[between_two_dates]\n",
    "df_cabs_2017.head()\n",
    "number_of_transactions_2017 = df_cabs_2017.size\n",
    "number_of_transactions_2017\n",
    "\n",
    "\n",
    "#by company\n",
    "\n",
    "df1 = df_cabs_2017.groupby('Company').count()\n",
    "number_of_pink_tranactions_in_2017= df1.iloc[0]['Transaction ID']\n",
    "number_of_yellow_tranactions_in_2017= df1.iloc[1]['Transaction ID']"
   ]
  },
  {
   "cell_type": "code",
   "execution_count": 11,
   "id": "243582fb",
   "metadata": {},
   "outputs": [],
   "source": [
    "start_date = \"2018-1-1\"\n",
    "end_date = \"2018-12-31\"\n",
    "\n",
    "after_start_date = df_cabs[\"Date of Travel\"] >= start_date\n",
    "before_end_date = df_cabs[\"Date of Travel\"] <= end_date\n",
    "between_two_dates = after_start_date & before_end_date\n",
    "df_cabs_2018 = df_cabs.loc[between_two_dates]\n",
    "df_cabs_2018\n",
    "number_of_transactions_2018 = df_cabs_2018.size\n",
    "number_of_transactions_2018\n",
    "\n",
    "#by company\n",
    "\n",
    "df1 = df_cabs_2018.groupby('Company').count()\n",
    "number_of_pink_tranactions_in_2018=  df1.iloc[0]['Transaction ID']\n",
    "number_of_yellow_tranactions_in_2018= df1.iloc[1]['Transaction ID']"
   ]
  },
  {
   "cell_type": "code",
   "execution_count": 12,
   "id": "dbcd8c4b",
   "metadata": {},
   "outputs": [],
   "source": [
    "start_date = \"2019-1-1\"\n",
    "end_date = \"2019-12-31\"\n",
    "\n",
    "after_start_date = df_cabs[\"Date of Travel\"] >= start_date\n",
    "before_end_date = df_cabs[\"Date of Travel\"] <= end_date\n",
    "between_two_dates = after_start_date & before_end_date\n",
    "df_cabs_2019 = df_cabs.loc[between_two_dates]\n",
    "df_cabs_2019\n",
    "number_of_transactions_2019 = df_cabs_2019.size\n",
    "number_of_transactions_2019\n",
    "\n",
    "\n",
    "#by company\n",
    "\n",
    "df1 = df_cabs_2019.groupby('Company').count()\n",
    "number_of_pink_tranactions_in_2019= df1.iloc[0]['Transaction ID']\n",
    "number_of_yellow_tranactions_in_2019= df1.iloc[1]['Transaction ID']"
   ]
  },
  {
   "cell_type": "code",
   "execution_count": 13,
   "id": "ccb8525c",
   "metadata": {},
   "outputs": [],
   "source": [
    "# ts = pd.Series(np.random.randn(1000), index=pd.date_range(\"1/1/2000\", periods=1000))\n",
    "\n",
    "# df = pd.DataFrame(np.random.randn(1000, 4), index=ts.index, columns=list(\"ABCD\"))\n",
    "# df = df.cumsum()\n",
    "# plt.figure();\n",
    "# df.plot();\n"
   ]
  },
  {
   "cell_type": "code",
   "execution_count": 14,
   "id": "17100caa",
   "metadata": {},
   "outputs": [
    {
     "data": {
      "text/html": [
       "<div>\n",
       "<style scoped>\n",
       "    .dataframe tbody tr th:only-of-type {\n",
       "        vertical-align: middle;\n",
       "    }\n",
       "\n",
       "    .dataframe tbody tr th {\n",
       "        vertical-align: top;\n",
       "    }\n",
       "\n",
       "    .dataframe thead th {\n",
       "        text-align: right;\n",
       "    }\n",
       "</style>\n",
       "<table border=\"1\" class=\"dataframe\">\n",
       "  <thead>\n",
       "    <tr style=\"text-align: right;\">\n",
       "      <th></th>\n",
       "      <th>Dates_2016</th>\n",
       "    </tr>\n",
       "  </thead>\n",
       "  <tbody>\n",
       "    <tr>\n",
       "      <th>0</th>\n",
       "      <td>2016-01-10</td>\n",
       "    </tr>\n",
       "    <tr>\n",
       "      <th>1</th>\n",
       "      <td>2016-01-08</td>\n",
       "    </tr>\n",
       "    <tr>\n",
       "      <th>2</th>\n",
       "      <td>2016-01-04</td>\n",
       "    </tr>\n",
       "    <tr>\n",
       "      <th>3</th>\n",
       "      <td>2016-01-09</td>\n",
       "    </tr>\n",
       "    <tr>\n",
       "      <th>4</th>\n",
       "      <td>2016-01-05</td>\n",
       "    </tr>\n",
       "    <tr>\n",
       "      <th>...</th>\n",
       "      <td>...</td>\n",
       "    </tr>\n",
       "    <tr>\n",
       "      <th>107273</th>\n",
       "      <td>2016-12-27</td>\n",
       "    </tr>\n",
       "    <tr>\n",
       "      <th>107275</th>\n",
       "      <td>2016-12-27</td>\n",
       "    </tr>\n",
       "    <tr>\n",
       "      <th>107276</th>\n",
       "      <td>2016-12-29</td>\n",
       "    </tr>\n",
       "    <tr>\n",
       "      <th>107277</th>\n",
       "      <td>2016-12-27</td>\n",
       "    </tr>\n",
       "    <tr>\n",
       "      <th>107278</th>\n",
       "      <td>2016-12-27</td>\n",
       "    </tr>\n",
       "  </tbody>\n",
       "</table>\n",
       "<p>106239 rows × 1 columns</p>\n",
       "</div>"
      ],
      "text/plain": [
       "       Dates_2016\n",
       "0      2016-01-10\n",
       "1      2016-01-08\n",
       "2      2016-01-04\n",
       "3      2016-01-09\n",
       "4      2016-01-05\n",
       "...           ...\n",
       "107273 2016-12-27\n",
       "107275 2016-12-27\n",
       "107276 2016-12-29\n",
       "107277 2016-12-27\n",
       "107278 2016-12-27\n",
       "\n",
       "[106239 rows x 1 columns]"
      ]
     },
     "execution_count": 14,
     "metadata": {},
     "output_type": "execute_result"
    }
   ],
   "source": [
    "df=pd.DataFrame({'Dates_2016': df_cabs_2016['Date of Travel']})\n",
    "df"
   ]
  },
  {
   "cell_type": "code",
   "execution_count": 15,
   "id": "fa7c95a0",
   "metadata": {},
   "outputs": [
    {
     "data": {
      "text/plain": [
       "353891   2019-01-02\n",
       "353898   2019-01-01\n",
       "353902   2019-01-02\n",
       "353911   2019-01-01\n",
       "353912   2019-01-02\n",
       "            ...    \n",
       "359262   2019-01-02\n",
       "359282   2019-01-02\n",
       "359320   2019-01-02\n",
       "359326   2019-01-02\n",
       "359379   2019-01-02\n",
       "Name: Date of Travel, Length: 513, dtype: datetime64[ns]"
      ]
     },
     "execution_count": 15,
     "metadata": {},
     "output_type": "execute_result"
    }
   ],
   "source": [
    "df_cabs_2019['Date of Travel']"
   ]
  },
  {
   "cell_type": "code",
   "execution_count": 16,
   "id": "35b09ddf",
   "metadata": {},
   "outputs": [
    {
     "data": {
      "image/png": "[encoded data removed]",
      "text/plain": [
       "<Figure size 432x288 with 1 Axes>"
      ]
     },
     "metadata": {
      "needs_background": "light"
     },
     "output_type": "display_data"
    }
   ],
   "source": [
    "years=[2016,2017,2018,2019]\n",
    "\n",
    "\n",
    "number_of_transactions_by_year= [number_of_transactions_2016,number_of_transactions_2017,number_of_transactions_2018,number_of_transactions_2019]\n",
    "number_of_transactions_by_year\n",
    "\n",
    "\n",
    "number_of_pink_tranactions_by_year = [number_of_pink_tranactions_in_2016, number_of_pink_tranactions_in_2017, number_of_pink_tranactions_in_2018, number_of_pink_tranactions_in_2019]\n",
    "number_of_yellow_tranactions_by_year = [number_of_yellow_tranactions_in_2016, number_of_yellow_tranactions_in_2017, number_of_yellow_tranactions_in_2018, number_of_yellow_tranactions_in_2019]\n",
    "\n",
    "plt.plot(years,number_of_transactions_by_year)\n",
    "plt.ylabel('Number of transactions by year')\n",
    "\n",
    "plt.show()"
   ]
  },
  {
   "cell_type": "markdown",
   "id": "6dc26902",
   "metadata": {},
   "source": [
    "### by company and by year\n"
   ]
  },
  {
   "cell_type": "code",
   "execution_count": 1,
   "id": "7c6c6e83",
   "metadata": {},
   "outputs": [
    {
     "ename": "NameError",
     "evalue": "name 'number_of_transactions_2016' is not defined",
     "output_type": "error",
     "traceback": [
      "\u001b[1;31m---------------------------------------------------------------------------\u001b[0m",
      "\u001b[1;31mNameError\u001b[0m                                 Traceback (most recent call last)",
      "\u001b[1;32m<ipython-input-1-0d085d430886>\u001b[0m in \u001b[0;36m<module>\u001b[1;34m\u001b[0m\n\u001b[0;32m      1\u001b[0m \u001b[0myears\u001b[0m\u001b[1;33m=\u001b[0m\u001b[1;33m[\u001b[0m\u001b[1;36m2016\u001b[0m\u001b[1;33m,\u001b[0m\u001b[1;36m2017\u001b[0m\u001b[1;33m,\u001b[0m\u001b[1;36m2018\u001b[0m\u001b[1;33m,\u001b[0m\u001b[1;36m2019\u001b[0m\u001b[1;33m]\u001b[0m\u001b[1;33m\u001b[0m\u001b[1;33m\u001b[0m\u001b[0m\n\u001b[1;32m----> 2\u001b[1;33m \u001b[0mnumber_of_transactions_by_year\u001b[0m\u001b[1;33m=\u001b[0m \u001b[1;33m[\u001b[0m\u001b[0mnumber_of_transactions_2016\u001b[0m\u001b[1;33m,\u001b[0m\u001b[0mnumber_of_transactions_2017\u001b[0m\u001b[1;33m,\u001b[0m\u001b[0mnumber_of_transactions_2018\u001b[0m\u001b[1;33m,\u001b[0m\u001b[0mnumber_of_transactions_2019\u001b[0m\u001b[1;33m]\u001b[0m\u001b[1;33m\u001b[0m\u001b[1;33m\u001b[0m\u001b[0m\n\u001b[0m\u001b[0;32m      3\u001b[0m \u001b[0mnumber_of_transactions_by_year\u001b[0m\u001b[1;33m\u001b[0m\u001b[1;33m\u001b[0m\u001b[0m\n\u001b[0;32m      4\u001b[0m \u001b[1;33m\u001b[0m\u001b[0m\n\u001b[0;32m      5\u001b[0m \u001b[1;33m\u001b[0m\u001b[0m\n",
      "\u001b[1;31mNameError\u001b[0m: name 'number_of_transactions_2016' is not defined"
     ]
    }
   ],
   "source": [
    "years=[2016,2017,2018,2019]\n",
    "number_of_transactions_by_year= [number_of_transactions_2016,number_of_transactions_2017,number_of_transactions_2018,number_of_transactions_2019]\n",
    "number_of_transactions_by_year\n",
    "\n",
    "\n",
    "plt.plot(years,number_of_transactions_by_year)\n",
    "plt.ylabel('Number of transactions by year')\n",
    "\n",
    "plt.show()"
   ]
  },
  {
   "cell_type": "code",
   "execution_count": 18,
   "id": "f0e21714",
   "metadata": {},
   "outputs": [
    {
     "data": {
      "image/png": "[encoded data removed]",
      "text/plain": [
       "<Figure size 432x288 with 1 Axes>"
      ]
     },
     "metadata": {
      "needs_background": "light"
     },
     "output_type": "display_data"
    }
   ],
   "source": [
    "years=[2016,2017,2018,2019]\n",
    "\n",
    "\n",
    "number_of_transactions_by_year= [number_of_transactions_2016,number_of_transactions_2017,number_of_transactions_2018,number_of_transactions_2019]\n",
    "number_of_transactions_by_year\n",
    "\n",
    "\n",
    "number_of_pink_tranactions_by_year = [number_of_pink_tranactions_in_2016, number_of_pink_tranactions_in_2017, number_of_pink_tranactions_in_2018, number_of_pink_tranactions_in_2019]\n",
    "number_of_yellow_tranactions_by_year = [number_of_yellow_tranactions_in_2016, number_of_yellow_tranactions_in_2017, number_of_yellow_tranactions_in_2018, number_of_yellow_tranactions_in_2019]\n",
    "\n",
    "plt.plot(years,number_of_pink_tranactions_by_year)\n",
    "plt.plot(years,number_of_yellow_tranactions_by_year)\n",
    "\n",
    "\n",
    "plt.ylabel('Number of transactions by year')\n",
    "plt.legend([\"Pink cabs\", \"Yellow cabs\"])\n",
    "\n",
    "plt.show()"
   ]
  },
  {
   "cell_type": "code",
   "execution_count": null,
   "id": "1318f5bf",
   "metadata": {},
   "outputs": [],
   "source": []
  },
  {
   "cell_type": "markdown",
   "id": "f83eb554",
   "metadata": {},
   "source": [
    "###  Seasonality in data"
   ]
  },
  {
   "cell_type": "code",
   "execution_count": 19,
   "id": "fd6867ab",
   "metadata": {},
   "outputs": [
    {
     "name": "stdout",
     "output_type": "stream",
     "text": [
      "autumn\n"
     ]
    }
   ],
   "source": [
    "from datetime import date, datetime\n",
    "\n",
    "Y = 2000 # dummy leap year to allow input X-02-29 (leap day)\n",
    "seasons = [('winter', (date(Y,  1,  1),  date(Y,  3, 20))),\n",
    "           ('spring', (date(Y,  3, 21),  date(Y,  6, 20))),\n",
    "           ('summer', (date(Y,  6, 21),  date(Y,  9, 22))),\n",
    "           ('autumn', (date(Y,  9, 23),  date(Y, 12, 20))),\n",
    "           ('winter', (date(Y, 12, 21),  date(Y, 12, 31)))]\n",
    "\n",
    "def get_season(now):\n",
    "    if isinstance(now, datetime):\n",
    "        now = now.date()\n",
    "    now = now.replace(year=Y)\n",
    "    return next(season for season, (start, end) in seasons\n",
    "                if start <= now <= end)\n",
    "\n",
    "print(get_season(date.today()))"
   ]
  },
  {
   "cell_type": "code",
   "execution_count": 20,
   "id": "f9fbf561",
   "metadata": {},
   "outputs": [],
   "source": [
    "from datetime import date, datetime\n",
    "\n",
    "Y = 2000 # dummy leap year to allow input X-02-29 (leap day)\n",
    "seasons = [('winter', (date(Y,  1,  1),  date(Y,  3, 20))),\n",
    "           ('spring', (date(Y,  3, 21),  date(Y,  6, 20))),\n",
    "           ('summer', (date(Y,  6, 21),  date(Y,  9, 22))),\n",
    "           ('autumn', (date(Y,  9, 23),  date(Y, 12, 20))),\n",
    "           ('winter', (date(Y, 12, 21),  date(Y, 12, 31)))]\n",
    "\n",
    "# if df_cabs['Dat of Travel'] in \n",
    "\n",
    "df_cabs['Season']= 1\n",
    "df_cabs\n",
    "\n",
    "\n",
    "# 2019\n",
    "winter_start_date = \"2019-1-1\"\n",
    "winter_end_date = \"2019-12-31\"\n",
    "\n",
    "after_start_date = df_cabs[\"Date of Travel\"] >= start_date\n",
    "before_end_date = df_cabs[\"Date of Travel\"] <= end_date\n",
    "between_two_dates = after_start_date & before_end_date\n",
    "\n",
    "\n",
    "# def get_season(now):\n",
    "#     if isinstance(now, datetime):\n",
    "#         now = now.date()\n",
    "#     now = now.replace(year=Y)\n",
    "#     return next(season for season, (start, end) in seasons\n",
    "#                 if start <= now <= end)\n",
    "\n",
    "# print(get_season(date.today()))"
   ]
  },
  {
   "cell_type": "code",
   "execution_count": 21,
   "id": "e95c3e13",
   "metadata": {},
   "outputs": [
    {
     "data": {
      "text/plain": [
       "datetime.date(2000, 1, 1)"
      ]
     },
     "execution_count": 21,
     "metadata": {},
     "output_type": "execute_result"
    }
   ],
   "source": [
    "Y=2000\n",
    "date(Y,  1,  1)"
   ]
  },
  {
   "cell_type": "code",
   "execution_count": 22,
   "id": "29e305be",
   "metadata": {},
   "outputs": [
    {
     "data": {
      "text/html": [
       "<div>\n",
       "<style scoped>\n",
       "    .dataframe tbody tr th:only-of-type {\n",
       "        vertical-align: middle;\n",
       "    }\n",
       "\n",
       "    .dataframe tbody tr th {\n",
       "        vertical-align: top;\n",
       "    }\n",
       "\n",
       "    .dataframe thead th {\n",
       "        text-align: right;\n",
       "    }\n",
       "</style>\n",
       "<table border=\"1\" class=\"dataframe\">\n",
       "  <thead>\n",
       "    <tr style=\"text-align: right;\">\n",
       "      <th></th>\n",
       "      <th>Transaction ID</th>\n",
       "      <th>Date of Travel</th>\n",
       "      <th>Company</th>\n",
       "      <th>City</th>\n",
       "      <th>KM Travelled</th>\n",
       "      <th>Price Charged</th>\n",
       "      <th>Cost of Trip</th>\n",
       "      <th>Season</th>\n",
       "    </tr>\n",
       "  </thead>\n",
       "  <tbody>\n",
       "    <tr>\n",
       "      <th>1005</th>\n",
       "      <td>10001315</td>\n",
       "      <td>2016-01-07</td>\n",
       "      <td>Yellow Cab</td>\n",
       "      <td>WASHINGTON DC</td>\n",
       "      <td>5.45</td>\n",
       "      <td>108.18</td>\n",
       "      <td>73.248</td>\n",
       "      <td>1</td>\n",
       "    </tr>\n",
       "  </tbody>\n",
       "</table>\n",
       "</div>"
      ],
      "text/plain": [
       "      Transaction ID Date of Travel     Company           City  KM Travelled  \\\n",
       "1005        10001315     2016-01-07  Yellow Cab  WASHINGTON DC          5.45   \n",
       "\n",
       "      Price Charged  Cost of Trip  Season  \n",
       "1005         108.18        73.248       1  "
      ]
     },
     "execution_count": 22,
     "metadata": {},
     "output_type": "execute_result"
    }
   ],
   "source": [
    "df_cabs[df_cabs.index==1005]"
   ]
  },
  {
   "cell_type": "code",
   "execution_count": 23,
   "id": "c2042ba1",
   "metadata": {},
   "outputs": [
    {
     "name": "stdout",
     "output_type": "stream",
     "text": [
      "   Color      Shape  Price\n",
      "0  Green  Rectangle     10\n",
      "1  Green  Rectangle     15\n",
      "4   Blue     Square     10\n",
      "5    Red     Square     15\n",
      "6    Red     Square     15\n"
     ]
    }
   ],
   "source": [
    "import pandas as pd\n",
    "\n",
    "boxes = {'Color': ['Green','Green','Green','Blue','Blue','Red','Red','Red'],\n",
    "         'Shape': ['Rectangle','Rectangle','Square','Rectangle','Square','Square','Square','Rectangle'],\n",
    "         'Price': [10,15,5,5,10,15,15,5]\n",
    "        }\n",
    "\n",
    "df = pd.DataFrame(boxes, columns= ['Color','Shape','Price'])\n",
    "\n",
    "select_price = df.loc[df['Price'] >= 10]\n",
    "print (select_price)"
   ]
  },
  {
   "cell_type": "code",
   "execution_count": 24,
   "id": "2067b022",
   "metadata": {},
   "outputs": [
    {
     "data": {
      "text/html": [
       "<div>\n",
       "<style scoped>\n",
       "    .dataframe tbody tr th:only-of-type {\n",
       "        vertical-align: middle;\n",
       "    }\n",
       "\n",
       "    .dataframe tbody tr th {\n",
       "        vertical-align: top;\n",
       "    }\n",
       "\n",
       "    .dataframe thead th {\n",
       "        text-align: right;\n",
       "    }\n",
       "</style>\n",
       "<table border=\"1\" class=\"dataframe\">\n",
       "  <thead>\n",
       "    <tr style=\"text-align: right;\">\n",
       "      <th></th>\n",
       "      <th>Transaction ID</th>\n",
       "      <th>Date of Travel</th>\n",
       "      <th>Company</th>\n",
       "      <th>City</th>\n",
       "      <th>KM Travelled</th>\n",
       "      <th>Price Charged</th>\n",
       "      <th>Cost of Trip</th>\n",
       "      <th>Season</th>\n",
       "    </tr>\n",
       "  </thead>\n",
       "  <tbody>\n",
       "  </tbody>\n",
       "</table>\n",
       "</div>"
      ],
      "text/plain": [
       "Empty DataFrame\n",
       "Columns: [Transaction ID, Date of Travel, Company, City, KM Travelled, Price Charged, Cost of Trip, Season]\n",
       "Index: []"
      ]
     },
     "execution_count": 24,
     "metadata": {},
     "output_type": "execute_result"
    }
   ],
   "source": [
    "df_cabs.loc[df_cabs['Season'] =='spring']\n"
   ]
  },
  {
   "cell_type": "code",
   "execution_count": 25,
   "id": "44b6a58b",
   "metadata": {},
   "outputs": [
    {
     "data": {
      "text/plain": [
       "datetime.date(2000, 1, 1)"
      ]
     },
     "execution_count": 25,
     "metadata": {},
     "output_type": "execute_result"
    }
   ],
   "source": [
    "date(Y,  1,  1)"
   ]
  },
  {
   "cell_type": "code",
   "execution_count": 26,
   "id": "d4ae3c8a",
   "metadata": {},
   "outputs": [
    {
     "data": {
      "text/plain": [
       "2019"
      ]
     },
     "execution_count": 26,
     "metadata": {},
     "output_type": "execute_result"
    }
   ],
   "source": [
    "pd.to_datetime('2019-01-01').year"
   ]
  },
  {
   "cell_type": "code",
   "execution_count": 27,
   "id": "e20db841",
   "metadata": {},
   "outputs": [
    {
     "data": {
      "text/plain": [
       "1"
      ]
     },
     "execution_count": 27,
     "metadata": {},
     "output_type": "execute_result"
    }
   ],
   "source": [
    "date(2019,1,1).day"
   ]
  },
  {
   "cell_type": "code",
   "execution_count": 28,
   "id": "fd8c57cc",
   "metadata": {},
   "outputs": [
    {
     "data": {
      "text/plain": [
       "Timestamp('2010-01-01 00:00:00')"
      ]
     },
     "execution_count": 28,
     "metadata": {},
     "output_type": "execute_result"
    }
   ],
   "source": [
    "start_date = \"2010-1-1\"\n",
    "end_date = \"Y-12-31\"\n",
    "pd.to_datetime(start_date)"
   ]
  },
  {
   "cell_type": "code",
   "execution_count": 29,
   "id": "15aa2e9b",
   "metadata": {},
   "outputs": [
    {
     "data": {
      "text/plain": [
       "datetime.date(2000, 1, 1)"
      ]
     },
     "execution_count": 29,
     "metadata": {},
     "output_type": "execute_result"
    }
   ],
   "source": [
    "winter_starts= date(Y,  1,  1)\n",
    "winter_starts"
   ]
  },
  {
   "cell_type": "code",
   "execution_count": 30,
   "id": "005b62f1",
   "metadata": {},
   "outputs": [
    {
     "data": {
      "text/html": [
       "<div>\n",
       "<style scoped>\n",
       "    .dataframe tbody tr th:only-of-type {\n",
       "        vertical-align: middle;\n",
       "    }\n",
       "\n",
       "    .dataframe tbody tr th {\n",
       "        vertical-align: top;\n",
       "    }\n",
       "\n",
       "    .dataframe thead th {\n",
       "        text-align: right;\n",
       "    }\n",
       "</style>\n",
       "<table border=\"1\" class=\"dataframe\">\n",
       "  <thead>\n",
       "    <tr style=\"text-align: right;\">\n",
       "      <th></th>\n",
       "      <th>Transaction ID</th>\n",
       "      <th>Date of Travel</th>\n",
       "      <th>Company</th>\n",
       "      <th>City</th>\n",
       "      <th>KM Travelled</th>\n",
       "      <th>Price Charged</th>\n",
       "      <th>Cost of Trip</th>\n",
       "      <th>Season</th>\n",
       "    </tr>\n",
       "  </thead>\n",
       "  <tbody>\n",
       "    <tr>\n",
       "      <th>0</th>\n",
       "      <td>10000011</td>\n",
       "      <td>2016-01-10</td>\n",
       "      <td>Pink Cab</td>\n",
       "      <td>ATLANTA GA</td>\n",
       "      <td>30.45</td>\n",
       "      <td>370.95</td>\n",
       "      <td>313.6350</td>\n",
       "      <td>1</td>\n",
       "    </tr>\n",
       "    <tr>\n",
       "      <th>1</th>\n",
       "      <td>10000012</td>\n",
       "      <td>2016-01-08</td>\n",
       "      <td>Pink Cab</td>\n",
       "      <td>ATLANTA GA</td>\n",
       "      <td>28.62</td>\n",
       "      <td>358.52</td>\n",
       "      <td>334.8540</td>\n",
       "      <td>1</td>\n",
       "    </tr>\n",
       "    <tr>\n",
       "      <th>2</th>\n",
       "      <td>10000013</td>\n",
       "      <td>2016-01-04</td>\n",
       "      <td>Pink Cab</td>\n",
       "      <td>ATLANTA GA</td>\n",
       "      <td>9.04</td>\n",
       "      <td>125.20</td>\n",
       "      <td>97.6320</td>\n",
       "      <td>1</td>\n",
       "    </tr>\n",
       "    <tr>\n",
       "      <th>3</th>\n",
       "      <td>10000014</td>\n",
       "      <td>2016-01-09</td>\n",
       "      <td>Pink Cab</td>\n",
       "      <td>ATLANTA GA</td>\n",
       "      <td>33.17</td>\n",
       "      <td>377.40</td>\n",
       "      <td>351.6020</td>\n",
       "      <td>1</td>\n",
       "    </tr>\n",
       "    <tr>\n",
       "      <th>4</th>\n",
       "      <td>10000015</td>\n",
       "      <td>2016-01-05</td>\n",
       "      <td>Pink Cab</td>\n",
       "      <td>ATLANTA GA</td>\n",
       "      <td>8.73</td>\n",
       "      <td>114.62</td>\n",
       "      <td>97.7760</td>\n",
       "      <td>1</td>\n",
       "    </tr>\n",
       "    <tr>\n",
       "      <th>...</th>\n",
       "      <td>...</td>\n",
       "      <td>...</td>\n",
       "      <td>...</td>\n",
       "      <td>...</td>\n",
       "      <td>...</td>\n",
       "      <td>...</td>\n",
       "      <td>...</td>\n",
       "      <td>...</td>\n",
       "    </tr>\n",
       "    <tr>\n",
       "      <th>359387</th>\n",
       "      <td>10440101</td>\n",
       "      <td>2018-01-10</td>\n",
       "      <td>Yellow Cab</td>\n",
       "      <td>WASHINGTON DC</td>\n",
       "      <td>4.80</td>\n",
       "      <td>69.24</td>\n",
       "      <td>63.3600</td>\n",
       "      <td>1</td>\n",
       "    </tr>\n",
       "    <tr>\n",
       "      <th>359388</th>\n",
       "      <td>10440104</td>\n",
       "      <td>2018-01-06</td>\n",
       "      <td>Yellow Cab</td>\n",
       "      <td>WASHINGTON DC</td>\n",
       "      <td>8.40</td>\n",
       "      <td>113.75</td>\n",
       "      <td>106.8480</td>\n",
       "      <td>1</td>\n",
       "    </tr>\n",
       "    <tr>\n",
       "      <th>359389</th>\n",
       "      <td>10440105</td>\n",
       "      <td>2018-01-07</td>\n",
       "      <td>Yellow Cab</td>\n",
       "      <td>WASHINGTON DC</td>\n",
       "      <td>27.75</td>\n",
       "      <td>437.07</td>\n",
       "      <td>349.6500</td>\n",
       "      <td>1</td>\n",
       "    </tr>\n",
       "    <tr>\n",
       "      <th>359390</th>\n",
       "      <td>10440106</td>\n",
       "      <td>2018-01-07</td>\n",
       "      <td>Yellow Cab</td>\n",
       "      <td>WASHINGTON DC</td>\n",
       "      <td>8.80</td>\n",
       "      <td>146.19</td>\n",
       "      <td>114.0480</td>\n",
       "      <td>1</td>\n",
       "    </tr>\n",
       "    <tr>\n",
       "      <th>359391</th>\n",
       "      <td>10440107</td>\n",
       "      <td>2018-01-04</td>\n",
       "      <td>Yellow Cab</td>\n",
       "      <td>WASHINGTON DC</td>\n",
       "      <td>12.76</td>\n",
       "      <td>191.58</td>\n",
       "      <td>177.6192</td>\n",
       "      <td>1</td>\n",
       "    </tr>\n",
       "  </tbody>\n",
       "</table>\n",
       "<p>359392 rows × 8 columns</p>\n",
       "</div>"
      ],
      "text/plain": [
       "        Transaction ID Date of Travel     Company           City  \\\n",
       "0             10000011     2016-01-10    Pink Cab     ATLANTA GA   \n",
       "1             10000012     2016-01-08    Pink Cab     ATLANTA GA   \n",
       "2             10000013     2016-01-04    Pink Cab     ATLANTA GA   \n",
       "3             10000014     2016-01-09    Pink Cab     ATLANTA GA   \n",
       "4             10000015     2016-01-05    Pink Cab     ATLANTA GA   \n",
       "...                ...            ...         ...            ...   \n",
       "359387        10440101     2018-01-10  Yellow Cab  WASHINGTON DC   \n",
       "359388        10440104     2018-01-06  Yellow Cab  WASHINGTON DC   \n",
       "359389        10440105     2018-01-07  Yellow Cab  WASHINGTON DC   \n",
       "359390        10440106     2018-01-07  Yellow Cab  WASHINGTON DC   \n",
       "359391        10440107     2018-01-04  Yellow Cab  WASHINGTON DC   \n",
       "\n",
       "        KM Travelled  Price Charged  Cost of Trip  Season  \n",
       "0              30.45         370.95      313.6350       1  \n",
       "1              28.62         358.52      334.8540       1  \n",
       "2               9.04         125.20       97.6320       1  \n",
       "3              33.17         377.40      351.6020       1  \n",
       "4               8.73         114.62       97.7760       1  \n",
       "...              ...            ...           ...     ...  \n",
       "359387          4.80          69.24       63.3600       1  \n",
       "359388          8.40         113.75      106.8480       1  \n",
       "359389         27.75         437.07      349.6500       1  \n",
       "359390          8.80         146.19      114.0480       1  \n",
       "359391         12.76         191.58      177.6192       1  \n",
       "\n",
       "[359392 rows x 8 columns]"
      ]
     },
     "execution_count": 30,
     "metadata": {},
     "output_type": "execute_result"
    }
   ],
   "source": [
    "df_cabs['Season']=1\n",
    "Y = 2000 # dummy leap year to allow input X-02-29 (leap day)\n",
    "seasons = [('winter', (date(Y,  1,  1),  date(Y,  3, 20))),\n",
    "           ('spring', (date(Y,  3, 21),  date(Y,  6, 20))),\n",
    "           ('summer', (date(Y,  6, 21),  date(Y,  9, 22))),\n",
    "           ('autumn', (date(Y,  9, 23),  date(Y, 12, 20))),\n",
    "           ('winter', (date(Y, 12, 21),  date(Y, 12, 31)))]\n",
    "serie = np.empty(len(df_cabs['Date of Travel']),dtype=object)\n",
    "\n",
    "def get_season(now):\n",
    "    if isinstance(now, datetime):\n",
    "        now = now.date()\n",
    "    now = now.replace(year=Y)\n",
    "    return next(season for season, (start, end) in seasons\n",
    "                if start <= now <= end)\n",
    "\n",
    "# print(get_season(date.today()))\n",
    "\n",
    "for index, raw in df_cabs.iterrows():\n",
    "#     Y=pd.to_datetime(raw['Date of Travel']).year\n",
    "#     raw['Season'] =\n",
    "     serie[index]=np.array(get_season(pd.to_datetime(raw['Date of Travel'])))\n",
    "     raw['Season']= get_season(pd.to_datetime(raw['Date of Travel']))\n",
    "# add a column season \n",
    "df_cabs\n",
    "# get_season(df_cabs['Date of Travel'])\n"
   ]
  },
  {
   "cell_type": "code",
   "execution_count": 31,
   "id": "6c89310b",
   "metadata": {},
   "outputs": [
    {
     "data": {
      "text/plain": [
       "359392"
      ]
     },
     "execution_count": 31,
     "metadata": {},
     "output_type": "execute_result"
    }
   ],
   "source": [
    "len(serie)"
   ]
  },
  {
   "cell_type": "code",
   "execution_count": 32,
   "id": "839de666",
   "metadata": {},
   "outputs": [
    {
     "data": {
      "text/html": [
       "<div>\n",
       "<style scoped>\n",
       "    .dataframe tbody tr th:only-of-type {\n",
       "        vertical-align: middle;\n",
       "    }\n",
       "\n",
       "    .dataframe tbody tr th {\n",
       "        vertical-align: top;\n",
       "    }\n",
       "\n",
       "    .dataframe thead th {\n",
       "        text-align: right;\n",
       "    }\n",
       "</style>\n",
       "<table border=\"1\" class=\"dataframe\">\n",
       "  <thead>\n",
       "    <tr style=\"text-align: right;\">\n",
       "      <th></th>\n",
       "      <th>Transaction ID</th>\n",
       "      <th>Date of Travel</th>\n",
       "      <th>Company</th>\n",
       "      <th>City</th>\n",
       "      <th>KM Travelled</th>\n",
       "      <th>Price Charged</th>\n",
       "      <th>Cost of Trip</th>\n",
       "      <th>Season</th>\n",
       "    </tr>\n",
       "  </thead>\n",
       "  <tbody>\n",
       "    <tr>\n",
       "      <th>0</th>\n",
       "      <td>10000011</td>\n",
       "      <td>2016-01-10</td>\n",
       "      <td>Pink Cab</td>\n",
       "      <td>ATLANTA GA</td>\n",
       "      <td>30.45</td>\n",
       "      <td>370.95</td>\n",
       "      <td>313.6350</td>\n",
       "      <td>winter</td>\n",
       "    </tr>\n",
       "    <tr>\n",
       "      <th>1</th>\n",
       "      <td>10000012</td>\n",
       "      <td>2016-01-08</td>\n",
       "      <td>Pink Cab</td>\n",
       "      <td>ATLANTA GA</td>\n",
       "      <td>28.62</td>\n",
       "      <td>358.52</td>\n",
       "      <td>334.8540</td>\n",
       "      <td>winter</td>\n",
       "    </tr>\n",
       "    <tr>\n",
       "      <th>2</th>\n",
       "      <td>10000013</td>\n",
       "      <td>2016-01-04</td>\n",
       "      <td>Pink Cab</td>\n",
       "      <td>ATLANTA GA</td>\n",
       "      <td>9.04</td>\n",
       "      <td>125.20</td>\n",
       "      <td>97.6320</td>\n",
       "      <td>winter</td>\n",
       "    </tr>\n",
       "    <tr>\n",
       "      <th>3</th>\n",
       "      <td>10000014</td>\n",
       "      <td>2016-01-09</td>\n",
       "      <td>Pink Cab</td>\n",
       "      <td>ATLANTA GA</td>\n",
       "      <td>33.17</td>\n",
       "      <td>377.40</td>\n",
       "      <td>351.6020</td>\n",
       "      <td>winter</td>\n",
       "    </tr>\n",
       "    <tr>\n",
       "      <th>4</th>\n",
       "      <td>10000015</td>\n",
       "      <td>2016-01-05</td>\n",
       "      <td>Pink Cab</td>\n",
       "      <td>ATLANTA GA</td>\n",
       "      <td>8.73</td>\n",
       "      <td>114.62</td>\n",
       "      <td>97.7760</td>\n",
       "      <td>winter</td>\n",
       "    </tr>\n",
       "    <tr>\n",
       "      <th>...</th>\n",
       "      <td>...</td>\n",
       "      <td>...</td>\n",
       "      <td>...</td>\n",
       "      <td>...</td>\n",
       "      <td>...</td>\n",
       "      <td>...</td>\n",
       "      <td>...</td>\n",
       "      <td>...</td>\n",
       "    </tr>\n",
       "    <tr>\n",
       "      <th>359387</th>\n",
       "      <td>10440101</td>\n",
       "      <td>2018-01-10</td>\n",
       "      <td>Yellow Cab</td>\n",
       "      <td>WASHINGTON DC</td>\n",
       "      <td>4.80</td>\n",
       "      <td>69.24</td>\n",
       "      <td>63.3600</td>\n",
       "      <td>winter</td>\n",
       "    </tr>\n",
       "    <tr>\n",
       "      <th>359388</th>\n",
       "      <td>10440104</td>\n",
       "      <td>2018-01-06</td>\n",
       "      <td>Yellow Cab</td>\n",
       "      <td>WASHINGTON DC</td>\n",
       "      <td>8.40</td>\n",
       "      <td>113.75</td>\n",
       "      <td>106.8480</td>\n",
       "      <td>winter</td>\n",
       "    </tr>\n",
       "    <tr>\n",
       "      <th>359389</th>\n",
       "      <td>10440105</td>\n",
       "      <td>2018-01-07</td>\n",
       "      <td>Yellow Cab</td>\n",
       "      <td>WASHINGTON DC</td>\n",
       "      <td>27.75</td>\n",
       "      <td>437.07</td>\n",
       "      <td>349.6500</td>\n",
       "      <td>winter</td>\n",
       "    </tr>\n",
       "    <tr>\n",
       "      <th>359390</th>\n",
       "      <td>10440106</td>\n",
       "      <td>2018-01-07</td>\n",
       "      <td>Yellow Cab</td>\n",
       "      <td>WASHINGTON DC</td>\n",
       "      <td>8.80</td>\n",
       "      <td>146.19</td>\n",
       "      <td>114.0480</td>\n",
       "      <td>winter</td>\n",
       "    </tr>\n",
       "    <tr>\n",
       "      <th>359391</th>\n",
       "      <td>10440107</td>\n",
       "      <td>2018-01-04</td>\n",
       "      <td>Yellow Cab</td>\n",
       "      <td>WASHINGTON DC</td>\n",
       "      <td>12.76</td>\n",
       "      <td>191.58</td>\n",
       "      <td>177.6192</td>\n",
       "      <td>winter</td>\n",
       "    </tr>\n",
       "  </tbody>\n",
       "</table>\n",
       "<p>359392 rows × 8 columns</p>\n",
       "</div>"
      ],
      "text/plain": [
       "        Transaction ID Date of Travel     Company           City  \\\n",
       "0             10000011     2016-01-10    Pink Cab     ATLANTA GA   \n",
       "1             10000012     2016-01-08    Pink Cab     ATLANTA GA   \n",
       "2             10000013     2016-01-04    Pink Cab     ATLANTA GA   \n",
       "3             10000014     2016-01-09    Pink Cab     ATLANTA GA   \n",
       "4             10000015     2016-01-05    Pink Cab     ATLANTA GA   \n",
       "...                ...            ...         ...            ...   \n",
       "359387        10440101     2018-01-10  Yellow Cab  WASHINGTON DC   \n",
       "359388        10440104     2018-01-06  Yellow Cab  WASHINGTON DC   \n",
       "359389        10440105     2018-01-07  Yellow Cab  WASHINGTON DC   \n",
       "359390        10440106     2018-01-07  Yellow Cab  WASHINGTON DC   \n",
       "359391        10440107     2018-01-04  Yellow Cab  WASHINGTON DC   \n",
       "\n",
       "        KM Travelled  Price Charged  Cost of Trip  Season  \n",
       "0              30.45         370.95      313.6350  winter  \n",
       "1              28.62         358.52      334.8540  winter  \n",
       "2               9.04         125.20       97.6320  winter  \n",
       "3              33.17         377.40      351.6020  winter  \n",
       "4               8.73         114.62       97.7760  winter  \n",
       "...              ...            ...           ...     ...  \n",
       "359387          4.80          69.24       63.3600  winter  \n",
       "359388          8.40         113.75      106.8480  winter  \n",
       "359389         27.75         437.07      349.6500  winter  \n",
       "359390          8.80         146.19      114.0480  winter  \n",
       "359391         12.76         191.58      177.6192  winter  \n",
       "\n",
       "[359392 rows x 8 columns]"
      ]
     },
     "execution_count": 32,
     "metadata": {},
     "output_type": "execute_result"
    }
   ],
   "source": [
    "df_cabs['Season']= serie\n",
    "df_cabs"
   ]
  },
  {
   "cell_type": "code",
   "execution_count": 33,
   "id": "9698da8c",
   "metadata": {},
   "outputs": [
    {
     "data": {
      "text/plain": [
       "array([[array('autumn', dtype='<U6'), 125102],\n",
       "       [array('spring', dtype='<U6'), 69445],\n",
       "       [array('summer', dtype='<U6'), 92643],\n",
       "       [array('winter', dtype='<U6'), 72202]], dtype=object)"
      ]
     },
     "execution_count": 33,
     "metadata": {},
     "output_type": "execute_result"
    }
   ],
   "source": [
    "# df_cabs['Season'].value_counts()\n",
    "np.array(np.unique(serie, return_counts=True)).T\n",
    "\n",
    "\n",
    "# array([[array('autumn', dtype='<U6'), 125102],\n",
    "#        [array('spring', dtype='<U6'), 69445],\n",
    "#        [array('summer', dtype='<U6'), 92643],\n",
    "#        [array('winter', dtype='<U6'), 72202]], dtype=object)"
   ]
  },
  {
   "cell_type": "code",
   "execution_count": 34,
   "id": "0f4f68a2",
   "metadata": {},
   "outputs": [
    {
     "data": {
      "image/png": "[encoded data removed]",
      "text/plain": [
       "<Figure size 432x288 with 1 Axes>"
      ]
     },
     "metadata": {
      "needs_background": "light"
     },
     "output_type": "display_data"
    }
   ],
   "source": [
    "fig = plt.figure()\n",
    "ax = fig.add_axes([0,0,1,1])\n",
    "langs = ['Autumn', 'Spring', 'Summer', 'Winter']\n",
    "number_of_transactions = [125102,69445,92643,72202]\n",
    "ax.bar(langs,number_of_transactions)\n",
    "plt.ylabel('Number of transactions')\n",
    "plt.show()"
   ]
  },
  {
   "cell_type": "code",
   "execution_count": null,
   "id": "d8acc669",
   "metadata": {},
   "outputs": [],
   "source": []
  }
 ],
 "metadata": {
  "kernelspec": {
   "display_name": "Python 3",
   "language": "python",
   "name": "python3"
  },
  "language_info": {
   "codemirror_mode": {
    "name": "ipython",
    "version": 3
   },
   "file_extension": ".py",
   "mimetype": "text/x-python",
   "name": "python",
   "nbconvert_exporter": "python",
   "pygments_lexer": "ipython3",
   "version": "3.8.8"
  }
 },
 "nbformat": 4,
 "nbformat_minor": 5
}
